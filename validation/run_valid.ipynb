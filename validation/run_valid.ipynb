{
 "cells": [
  {
   "cell_type": "code",
   "execution_count": null,
   "id": "c6beee18-aa08-4dc7-be98-5f884f5d128a",
   "metadata": {},
   "outputs": [],
   "source": [
    "%load_ext autoreload\n",
    "%autoreload 2\n",
    "%matplotlib widget"
   ]
  },
  {
   "cell_type": "code",
   "execution_count": null,
   "id": "b0e7c9b7-be5d-4b19-b62f-a7b7d58af927",
   "metadata": {},
   "outputs": [],
   "source": [
    "import numpy as np\n",
    "import matplotlib.pyplot as plt\n",
    "import matplotlib as mpl\n",
    "import cmocean\n",
    "from astropy.table import Table\n",
    "from astropy.coordinates import SkyCoord\n",
    "from astropy.io import fits\n",
    "import astropy.units as u\n",
    "import scipy.stats as ss"
   ]
  },
  {
   "cell_type": "code",
   "execution_count": null,
   "id": "e1e9c84c-2ad6-4244-816c-5269f8d9aa94",
   "metadata": {},
   "outputs": [],
   "source": [
    "import sys\n",
    "sys.path.append(\"..\")\n",
    "import panco2 as p2"
   ]
  },
  {
   "cell_type": "markdown",
   "id": "b709bede-6385-4ab0-aac7-84739a98c6cc",
   "metadata": {
    "tags": []
   },
   "source": [
    "# C1"
   ]
  },
  {
   "cell_type": "markdown",
   "id": "5696faf2-caa5-46cc-afb0-0ebe24d8305c",
   "metadata": {
    "tags": []
   },
   "source": [
    "## C1 with Planck"
   ]
  },
  {
   "cell_type": "code",
   "execution_count": null,
   "id": "bb227e1c-490a-4bcd-8309-f933bb8f127f",
   "metadata": {},
   "outputs": [],
   "source": [
    "path = \"./results/C1/Planck\"\n",
    "ppf = p2.PressureProfileFitter(\n",
    "    f\"{path}/input_map.fits\",\n",
    "    1, 5,\n",
    "    0.05, 9e14,\n",
    "    map_size=4.0 * 60,\n",
    "    coords_center=SkyCoord(\"12h00m00s +00d00m00s\")\n",
    ")\n",
    "\n",
    "pix_kpc, half_map_kpc = ppf.cluster.arcsec2kpc(ppf.pix_size), ppf.cluster.arcsec2kpc(ppf.map_size * 60 / 2)\n",
    "beam_kpc = ppf.cluster.arcsec2kpc(600.0)\n",
    "r_bins = np.concatenate(([pix_kpc], np.logspace(np.log10(beam_kpc), np.log10(1.1 * half_map_kpc), 4)))\n",
    "\n",
    "ppf.define_model(\"binned\", r_bins)\n",
    "\n",
    "ppf.add_filtering(beam_fwhm=600.0)\n",
    "\n",
    "P_bins = p2.utils.gNFW(r_bins, *ppf.cluster.A10_params)\n",
    "ppf.define_priors(\n",
    "    P_bins=[ss.loguniform(0.01 * P, 100.0 * P) for P in P_bins],\n",
    "    conv=ss.norm(1.0, 0.05),\n",
    "    zero=ss.norm(0.0, 1e-5)\n",
    ")\n",
    "ppf.dump_to_file(f\"{path}/C1_planck.panco2\")\n",
    "\n",
    "plt.close(\"all\")\n",
    "fig, ax = plt.subplots()\n",
    "ax.loglog(r_bins, P_bins, \"o-\")\n",
    "for x in [pix_kpc, beam_kpc / 2, beam_kpc, half_map_kpc, half_map_kpc * np.sqrt(2)]:\n",
    "    ax.axvline(x, 0, 1, color=\"k\", ls=\":\")\n",
    "ax.axvline(ppf.cluster.R_500, 0, 1, color=\"k\", ls=\"--\")\n",
    "\n",
    "par_vec = np.append(P_bins, [1.0, 0.0])\n",
    "_ = p2.results.plot_data_model_residuals(ppf, par_vec, smooth=0.5, cbar_fact=1e5, cbar_label=\"Compton $y \\\\times 10^5$\")\n",
    "_, ax = p2.results.plot_data_model_residuals_1d(ppf, par_vec=par_vec, y_fact=1e5, y_label=\"Compton $y \\\\times 10^5$\")\n",
    "ax.set_xscale(\"log\")\n",
    "ax.set_xlim(ppf.pix_size / 2, ppf.map_size * 60 / np.sqrt(2))"
   ]
  },
  {
   "cell_type": "code",
   "execution_count": null,
   "id": "965293d3-4e63-4515-b1f6-d458066eeebd",
   "metadata": {},
   "outputs": [],
   "source": [
    "_ = ppf.run_mcmc(\n",
    "    30, 1e5, 4, n_check=1e3, max_delta_tau=0.02, min_autocorr_times=20, \n",
    "    out_chains_file=f\"{path}/rawchains.npz\", plot_convergence=f\"{path}/mcmc_convergence.pdf\"\n",
    ")"
   ]
  },
  {
   "cell_type": "code",
   "execution_count": null,
   "id": "8d0866b0-b8a8-42d9-a972-378ab4a17ddd",
   "metadata": {},
   "outputs": [],
   "source": [
    "path = \"./results/C1/Planck\"\n",
    "ppf = p2.PressureProfileFitter.load_from_file(f\"{path}/C1_planck.panco2\")\n",
    "\n",
    "chains_clean = p2.results.load_chains(f\"{path}/rawchains.npz\", 500, 50, clip_percent=25.0, verbose=True)"
   ]
  },
  {
   "cell_type": "code",
   "execution_count": null,
   "id": "40f2000c-a7ec-493f-967f-67abb056e98d",
   "metadata": {},
   "outputs": [],
   "source": [
    "plt.close(\"all\")\n",
    "_ = p2.results.mcmc_trace_plot(chains_clean, filename=f\"{path}/mcmc_trace.png\")"
   ]
  },
  {
   "cell_type": "code",
   "execution_count": null,
   "id": "4a04b805-ef9c-4f1c-991a-424863cbd201",
   "metadata": {},
   "outputs": [],
   "source": [
    "_ = p2.results.mcmc_corner_plot(chains_clean, ppf=ppf, filename=f\"{path}/mcmc_corner.pdf\")"
   ]
  },
  {
   "cell_type": "code",
   "execution_count": null,
   "id": "3c818ffc-c1d0-4d82-b49b-b1d6bf2e1385",
   "metadata": {},
   "outputs": [],
   "source": [
    "meds = dict(chains_clean.median())\n",
    "p2.results.plot_data_model_residuals(\n",
    "    ppf, par_dic=meds, smooth=0.5, cbar_fact=1e5, lims=\"sym\",\n",
    "    cbar_label=\"Compton $y \\\\times 10^5$\", filename=f\"{path}/data_model_residuals_maps.pdf\",\n",
    "    cmap=p2.utils.get_planck_cmap()\n",
    ")\n",
    "#p2.results.plot_data_model_residuals_1d(\n",
    "#    ppf, chains_clean=chains_clean, y_fact=1e5, plot_beam=True, \n",
    "#    y_label=\"Compton $y \\\\times 10^5$\", filename=f\"{path}/data_model_residuals_profiles.pdf\", x_log=True\n",
    "#)"
   ]
  },
  {
   "cell_type": "code",
   "execution_count": null,
   "id": "eb4e7e44-a212-44bf-8c1b-44bc56bffa92",
   "metadata": {},
   "outputs": [],
   "source": [
    "r_range = np.logspace(np.log10(ppf.cluster.arcsec2kpc(ppf.pix_size / 2)), np.log10(ppf.cluster.arcsec2kpc(ppf.map_size * 60 / np.sqrt(2))), 100)\n",
    "fig, ax = p2.results.plot_profile(chains_clean, ppf, r_range=r_range, label=\"panco2\")\n",
    "ax.plot(r_range, p2.utils.gNFW(r_range, *ppf.cluster.A10_params), \"k--\", label=\"Truth\")\n",
    "ax.legend(frameon=False)\n",
    "fig.savefig(f\"{path}/pressure_profile.pdf\")"
   ]
  },
  {
   "cell_type": "markdown",
   "id": "bde4a7f2-61a6-42de-b7c0-feb7fefd07d5",
   "metadata": {
    "tags": []
   },
   "source": [
    "## C1 with SPT"
   ]
  },
  {
   "cell_type": "code",
   "execution_count": null,
   "id": "e49a93e6-35df-436e-896e-9ab3f127c4e2",
   "metadata": {},
   "outputs": [],
   "source": [
    "path = \"./results/C1/SPT/\"\n",
    "ppf = p2.PressureProfileFitter(\n",
    "    f\"{path}/input_map.fits\",\n",
    "    1, 5,\n",
    "    0.05, 9e14,\n",
    "    map_size=1.0 * 60,\n",
    "    coords_center=SkyCoord(\"12h00m00s +00d00m00s\")\n",
    ")\n",
    "ppf.sz_rms *= 2\n",
    "\n",
    "pix_kpc, half_map_kpc = ppf.cluster.arcsec2kpc(ppf.pix_size), ppf.cluster.arcsec2kpc(ppf.map_size * 60 / 2)\n",
    "beam_kpc = ppf.cluster.arcsec2kpc(75.0)\n",
    "r_bins = np.concatenate(([pix_kpc], np.logspace(np.log10(beam_kpc), np.log10(1.1 * half_map_kpc), 4)))\n",
    "\n",
    "ppf.define_model(\"binned\", r_bins)\n",
    "\n",
    "ppf.add_filtering(beam_fwhm=75.0)\n",
    "\n",
    "P_bins = p2.utils.gNFW(r_bins, *ppf.cluster.A10_params)\n",
    "ppf.define_priors(\n",
    "    P_bins=[ss.loguniform(0.01 * P, 100.0 * P) for P in P_bins],\n",
    "    conv=ss.norm(1.0, 0.05),\n",
    "    zero=ss.norm(0.0, 1e-5)\n",
    ")\n",
    "ppf.dump_to_file(f\"{path}/C1_spt.panco2\")\n",
    "\n",
    "plt.close(\"all\")\n",
    "fig, ax = plt.subplots()\n",
    "ax.loglog(r_bins, P_bins, \"o-\")\n",
    "for x in [pix_kpc, beam_kpc / 2, beam_kpc, half_map_kpc, half_map_kpc * np.sqrt(2)]:\n",
    "    ax.axvline(x, 0, 1, color=\"k\", ls=\":\")\n",
    "ax.axvline(ppf.cluster.R_500, 0, 1, color=\"k\", ls=\"--\")\n",
    "\n",
    "par_vec = np.append(P_bins, [1.0, 0.0])\n",
    "_ = p2.results.plot_data_model_residuals(ppf, par_vec, smooth=1.0, cbar_fact=1e5, cbar_label=\"Compton $y \\\\times 10^5$\")\n",
    "_, ax = p2.results.plot_data_model_residuals_1d(ppf, par_vec=par_vec, y_fact=1e5, y_label=\"Compton $y \\\\times 10^5$\", x_log=True)"
   ]
  },
  {
   "cell_type": "code",
   "execution_count": null,
   "id": "68f359a5-4f94-49f5-95e1-887f1c11d9d4",
   "metadata": {},
   "outputs": [],
   "source": [
    "_ = ppf.run_mcmc(\n",
    "    30, 1e5, 4, n_check=1e3, max_delta_tau=0.02, min_autocorr_times=20, \n",
    "    out_chains_file=f\"{path}/rawchains.npz\", plot_convergence=f\"{path}/mcmc_convergence.pdf\"\n",
    ")"
   ]
  },
  {
   "cell_type": "code",
   "execution_count": null,
   "id": "513568ea-1970-4371-a718-a7fd106f2568",
   "metadata": {},
   "outputs": [],
   "source": [
    "path = \"./results/C1/SPT/\"\n",
    "ppf = p2.PressureProfileFitter.load_from_file(f\"{path}/C1_spt.panco2\")\n",
    "chains_clean = p2.results.load_chains(f\"{path}/rawchains.npz\", 500, 20, clip_percent=25.0, verbose=True)"
   ]
  },
  {
   "cell_type": "code",
   "execution_count": null,
   "id": "e40400e5-7cbb-41e1-bd50-2df528daab91",
   "metadata": {},
   "outputs": [],
   "source": [
    "plt.close(\"all\")\n",
    "_ = p2.results.mcmc_trace_plot(chains_clean, filename=f\"{path}/mcmc_trace.png\")"
   ]
  },
  {
   "cell_type": "code",
   "execution_count": null,
   "id": "3f570990-eb73-4cc3-a421-8d345f6f44ec",
   "metadata": {},
   "outputs": [],
   "source": [
    "_ = p2.results.mcmc_corner_plot(chains_clean, ppf=ppf, filename=f\"{path}/mcmc_corner.pdf\")"
   ]
  },
  {
   "cell_type": "code",
   "execution_count": null,
   "id": "f9b8c2d8-e466-49e1-b1a2-b7ce1d70b5c9",
   "metadata": {},
   "outputs": [],
   "source": [
    "meds = dict(chains_clean.median())\n",
    "p2.results.plot_data_model_residuals(\n",
    "    ppf, par_dic=meds, smooth=1.0, cbar_fact=1e5, cmap=\"twilight_shifted\",\n",
    "    cbar_label=\"Compton $y \\\\times 10^5$\", filename=f\"{path}/data_model_residuals_maps.pdf\"\n",
    ")\n",
    "#p2.results.plot_data_model_residuals_1d(\n",
    "#    ppf, chains_clean=chains_clean, y_fact=1e5, plot_beam=True, \n",
    "#    y_label=\"Compton $y \\\\times 10^5$\", filename=f\"{path}/data_model_residuals_profiles.pdf\", x_log=True\n",
    "#)"
   ]
  },
  {
   "cell_type": "code",
   "execution_count": null,
   "id": "a83531f7-5d87-41ae-a138-57905df30d96",
   "metadata": {},
   "outputs": [],
   "source": [
    "r_range = np.logspace(np.log10(ppf.cluster.arcsec2kpc(ppf.pix_size)), np.log10(ppf.cluster.arcsec2kpc(ppf.map_size * 60 / np.sqrt(2))), 100)\n",
    "fig, ax = p2.results.plot_profile(chains_clean, ppf, r_range=r_range, label=\"panco2\")\n",
    "ax.plot(r_range, p2.utils.gNFW(r_range, *ppf.cluster.A10_params), \"k--\", label=\"Truth\")\n",
    "ax.legend(frameon=False)\n",
    "fig.savefig(f\"{path}/pressure_profile.pdf\")"
   ]
  },
  {
   "cell_type": "markdown",
   "id": "81f22145-ba98-46db-8fd7-127a0348ef48",
   "metadata": {
    "tags": []
   },
   "source": [
    "# C2"
   ]
  },
  {
   "cell_type": "markdown",
   "id": "d71a9247-2157-4822-80d5-4f8c2a74145a",
   "metadata": {
    "tags": []
   },
   "source": [
    "## C2 with SPT"
   ]
  },
  {
   "cell_type": "code",
   "execution_count": null,
   "id": "b30e9713-9afe-42f8-b0e2-836efa884f73",
   "metadata": {},
   "outputs": [],
   "source": [
    "path = \"./results/C2/SPT/\"\n",
    "ppf = p2.PressureProfileFitter(\n",
    "    f\"{path}/input_map.fits\",\n",
    "    1, 5,\n",
    "    0.5, 6e14,\n",
    "    map_size=1.0 * 60,\n",
    "    coords_center=SkyCoord(\"12h00m00s +00d00m00s\")\n",
    ")\n",
    "ppf.sz_rms *= 2\n",
    "\n",
    "pix_kpc, half_map_kpc = ppf.cluster.arcsec2kpc(ppf.pix_size), ppf.cluster.arcsec2kpc(ppf.map_size * 60 / 2)\n",
    "beam_kpc = ppf.cluster.arcsec2kpc(75.0)\n",
    "r_bins = np.concatenate(([pix_kpc], np.logspace(np.log10(beam_kpc), np.log10(1.1 * half_map_kpc), 4)))\n",
    "\n",
    "ppf.define_model(\"binned\", r_bins)\n",
    "\n",
    "ppf.add_filtering(beam_fwhm=75.0)\n",
    "\n",
    "P_bins = p2.utils.gNFW(r_bins, *ppf.cluster.A10_params)\n",
    "ppf.define_priors(\n",
    "    P_bins=[ss.loguniform(0.01 * P, 100.0 * P) for P in P_bins],\n",
    "    conv=ss.norm(1.0, 0.05),\n",
    "    zero=ss.norm(0.0, 1e-5)\n",
    ")\n",
    "ppf.dump_to_file(f\"{path}/C2_spt.panco2\")\n",
    "\n",
    "plt.close(\"all\")\n",
    "fig, ax = plt.subplots()\n",
    "ax.loglog(r_bins, P_bins, \"o-\")\n",
    "for x in [pix_kpc, beam_kpc / 2, beam_kpc, half_map_kpc, half_map_kpc * np.sqrt(2)]:\n",
    "    ax.axvline(x, 0, 1, color=\"k\", ls=\":\")\n",
    "ax.axvline(ppf.cluster.R_500, 0, 1, color=\"k\", ls=\"--\")\n",
    "\n",
    "par_vec = np.append(P_bins, [1.0, 0.0])\n",
    "_ = p2.results.plot_data_model_residuals(ppf, par_vec, smooth=1.0, cbar_fact=1e5, cbar_label=\"Compton $y \\\\times 10^5$\")\n",
    "_, ax = p2.results.plot_data_model_residuals_1d(ppf, par_vec=par_vec, y_fact=1e5, y_label=\"Compton $y \\\\times 10^5$\", x_log=True)"
   ]
  },
  {
   "cell_type": "code",
   "execution_count": null,
   "id": "f3fb8d4c-f6d6-4b5f-b9d1-44108c4184ae",
   "metadata": {},
   "outputs": [],
   "source": [
    "_ = ppf.run_mcmc(\n",
    "    30, 1e5, 4, n_check=1e3, max_delta_tau=0.02, min_autocorr_times=20, \n",
    "    out_chains_file=f\"{path}/rawchains.npz\", plot_convergence=f\"{path}/mcmc_convergence.pdf\"\n",
    ")"
   ]
  },
  {
   "cell_type": "code",
   "execution_count": null,
   "id": "d4b0df6b-e14c-4bf1-87b7-e2b32daece05",
   "metadata": {},
   "outputs": [],
   "source": [
    "path = \"./results/C2/SPT/\"\n",
    "ppf = p2.PressureProfileFitter.load_from_file(f\"{path}/C2_spt.panco2\")\n",
    "chains_clean = p2.results.load_chains(f\"{path}/rawchains.npz\", 500, 50, clip_percent=20.0, verbose=True)"
   ]
  },
  {
   "cell_type": "code",
   "execution_count": null,
   "id": "d66f9b43-970d-4f6f-8255-e25a496b468e",
   "metadata": {},
   "outputs": [],
   "source": [
    "plt.close(\"all\")\n",
    "_ = p2.results.mcmc_trace_plot(chains_clean, filename=f\"{path}/mcmc_trace.png\")"
   ]
  },
  {
   "cell_type": "code",
   "execution_count": null,
   "id": "5b7aa124-081e-4e79-855e-4cfef278b0f7",
   "metadata": {},
   "outputs": [],
   "source": [
    "_ = p2.results.mcmc_corner_plot(chains_clean, ppf=ppf, filename=f\"{path}/mcmc_corner.pdf\")"
   ]
  },
  {
   "cell_type": "code",
   "execution_count": null,
   "id": "fa814256-98a8-4cd8-bf53-79538997bde5",
   "metadata": {},
   "outputs": [],
   "source": [
    "meds = dict(chains_clean.median())\n",
    "p2.results.plot_data_model_residuals(\n",
    "    ppf, par_dic=meds, smooth=1.0, cbar_fact=1e5, cmap=\"twilight_shifted\",\n",
    "    cbar_label=\"Compton $y \\\\times 10^5$\", filename=f\"{path}/data_model_residuals_maps.pdf\"\n",
    ")\n",
    "#p2.results.plot_data_model_residuals_1d(\n",
    "#    ppf, chains_clean=chains_clean, y_fact=1e5, plot_beam=True, \n",
    "#    y_label=\"Compton $y \\\\times 10^5$\", filename=f\"{path}/data_model_residuals_profiles.pdf\", x_log=True\n",
    "#)"
   ]
  },
  {
   "cell_type": "code",
   "execution_count": null,
   "id": "4f758837-13b4-4e09-9085-49029484b55a",
   "metadata": {},
   "outputs": [],
   "source": [
    "r_range = np.logspace(np.log10(ppf.cluster.arcsec2kpc(ppf.pix_size)), np.log10(ppf.cluster.arcsec2kpc(ppf.map_size * 60 / np.sqrt(2))), 100)\n",
    "fig, ax = p2.results.plot_profile(chains_clean, ppf, r_range=r_range, label=\"panco2\")\n",
    "ax.plot(r_range, p2.utils.gNFW(r_range, *ppf.cluster.A10_params), \"k--\", label=\"Truth\")\n",
    "ax.legend(frameon=False)\n",
    "fig.savefig(f\"{path}/pressure_profile.pdf\")"
   ]
  },
  {
   "cell_type": "markdown",
   "id": "46a9d5ff-5abc-4925-a1e1-9ef974bba1c6",
   "metadata": {
    "tags": []
   },
   "source": [
    "## C2 with NIKA2"
   ]
  },
  {
   "cell_type": "code",
   "execution_count": null,
   "id": "eba1f43d-6ad5-47db-a60f-2b256bc0ff1c",
   "metadata": {},
   "outputs": [],
   "source": [
    "path = \"./results/C2/NIKA2/\"\n",
    "ppf = p2.PressureProfileFitter(\n",
    "    f\"{path}/input_map.fits\",\n",
    "    1, 5,\n",
    "    0.5, 6e14,\n",
    "    map_size=6.5,\n",
    "    coords_center=SkyCoord(\"12h00m00s +00d00m00s\")\n",
    ")\n",
    "\n",
    "pix_kpc, half_map_kpc = ppf.cluster.arcsec2kpc(ppf.pix_size), ppf.cluster.arcsec2kpc(ppf.map_size * 60 / 2)\n",
    "beam_kpc = ppf.cluster.arcsec2kpc(18.0)\n",
    "r_bins = np.concatenate(([pix_kpc], np.logspace(np.log10(beam_kpc), np.log10(1.1 * half_map_kpc), 4)))\n",
    "\n",
    "ppf.define_model(r_bins)\n",
    "\n",
    "tf = Table.read(\"./example_data/NIKA2/nk2_tf.fits\")\n",
    "ppf.add_filtering(beam_fwhm=18.0, k=tf[\"k\"], tf=tf[\"tf_2mm\"], pad=20)\n",
    "\n",
    "P_bins = p2.utils.gNFW(r_bins, *ppf.cluster.A10_params)\n",
    "ppf.define_priors(\n",
    "    P_bins=[ss.loguniform(0.01 * P, 100.0 * P) for P in P_bins],\n",
    "    conv=ss.norm(-12.0, 1.2),\n",
    "    zero=ss.norm(0.0, 1e-3)\n",
    ")\n",
    "ppf.dump_to_file(f\"{path}/C2_nk2.panco2\")\n",
    "\n",
    "plt.close(\"all\")\n",
    "fig, ax = plt.subplots()\n",
    "ax.loglog(r_bins, P_bins, \"o-\")\n",
    "for x in [pix_kpc, beam_kpc / 2, beam_kpc, half_map_kpc, half_map_kpc * np.sqrt(2)]:\n",
    "    ax.axvline(x, 0, 1, color=\"k\", ls=\":\")\n",
    "ax.axvline(ppf.cluster.R_500, 0, 1, color=\"k\", ls=\"--\")\n",
    "\n",
    "par_vec = np.append(P_bins, [-12.0, 0.0])\n",
    "_ = p2.results.plot_data_model_residuals(ppf, par_vec, smooth=1.0, cbar_fact=1e3, cbar_label=\"NIKA2 150 GHz [mJy/beam]\", lims=\"sym\")\n",
    "_, ax = p2.results.plot_data_model_residuals_1d(ppf, par_vec=par_vec, y_fact=-1e3, y_label=\"NIKA2 150 GHz [mJy/beam]\", x_log=True)"
   ]
  },
  {
   "cell_type": "code",
   "execution_count": null,
   "id": "678591bc-f573-45ac-ad3f-45c02753f807",
   "metadata": {},
   "outputs": [],
   "source": [
    "_ = ppf.run_mcmc(\n",
    "    30, 1e5, 4, n_check=1e3, max_delta_tau=0.02, min_autocorr_times=20, \n",
    "    out_chains_file=f\"{path}/rawchains.npz\", plot_convergence=f\"{path}/mcmc_convergence.pdf\"\n",
    ")"
   ]
  },
  {
   "cell_type": "code",
   "execution_count": null,
   "id": "7d650759-cb09-4ab9-ab35-2751faab6d6e",
   "metadata": {},
   "outputs": [],
   "source": [
    "path = \"./results/C2/NIKA2/\"\n",
    "ppf = p2.PressureProfileFitter.load_from_file(f\"{path}/C2_nk2.panco2\")\n",
    "chains_clean = p2.results.load_chains(f\"{path}/rawchains.npz\", 500, 20, clip_percent=20.0, verbose=True)"
   ]
  },
  {
   "cell_type": "code",
   "execution_count": null,
   "id": "a72ab834-2340-46b1-a281-b10495282b06",
   "metadata": {},
   "outputs": [],
   "source": [
    "plt.close(\"all\")\n",
    "_ = p2.results.mcmc_trace_plot(chains_clean, filename=f\"{path}/mcmc_trace.png\")"
   ]
  },
  {
   "cell_type": "code",
   "execution_count": null,
   "id": "2a0ba584-1082-40bf-86fc-d5a8afe57a9a",
   "metadata": {},
   "outputs": [],
   "source": [
    "_ = p2.results.mcmc_corner_plot(chains_clean, ppf=ppf, filename=f\"{path}/mcmc_corner.pdf\")"
   ]
  },
  {
   "cell_type": "code",
   "execution_count": null,
   "id": "2ee5ec7e-29d8-4b1f-8ca0-a22bdd301f82",
   "metadata": {},
   "outputs": [],
   "source": [
    "meds = dict(chains_clean.median())\n",
    "p2.results.plot_data_model_residuals(\n",
    "    ppf, par_dic=meds, smooth=1.0, cbar_fact=1e3, cmap=\"RdBu_r\", lims=\"sym\",\n",
    "    cbar_label=\"NIKA2 150 GHz [mJy/beam]\", filename=f\"{path}/data_model_residuals_maps.pdf\"\n",
    ")\n",
    "#p2.results.plot_data_model_residuals_1d(\n",
    "#    ppf, par_dic=meds, y_fact=-1e3, plot_beam=True, \n",
    "#    y_label=\"NIKA2 150 GHz [mJy/beam]\", filename=f\"{path}/data_model_residuals_profiles.pdf\", x_log=True\n",
    "#)"
   ]
  },
  {
   "cell_type": "code",
   "execution_count": null,
   "id": "8f27f1c4-d749-4fff-9654-a9f4f3c6a2f1",
   "metadata": {},
   "outputs": [],
   "source": [
    "r_range = np.logspace(np.log10(ppf.cluster.arcsec2kpc(ppf.pix_size)), np.log10(ppf.cluster.arcsec2kpc(ppf.map_size * 60 / np.sqrt(2))), 100)\n",
    "fig, ax = p2.results.plot_profile(chains_clean, ppf, r_range=r_range, label=\"panco2\")\n",
    "ax.plot(r_range, p2.utils.gNFW(r_range, *ppf.cluster.A10_params), \"k--\", label=\"Truth\")\n",
    "ax.legend(frameon=False)\n",
    "fig.savefig(f\"{path}/pressure_profile.pdf\")"
   ]
  },
  {
   "cell_type": "markdown",
   "id": "4dc492cb-9869-474d-9f98-175262098953",
   "metadata": {},
   "source": [
    "# C3\n",
    "\n",
    "## C3 with NIKA2"
   ]
  },
  {
   "cell_type": "code",
   "execution_count": null,
   "id": "f1ecc796-4cdb-4e5d-9b8c-a971057078cb",
   "metadata": {},
   "outputs": [],
   "source": [
    "path = \"./results/C3/NIKA2/\"\n",
    "ppf = p2.PressureProfileFitter(\n",
    "    f\"{path}/input_map.fits\",\n",
    "    1, 5,\n",
    "    1.0, 3e14,\n",
    "    map_size=6.5,\n",
    "    coords_center=SkyCoord(\"12h00m00s +00d00m00s\")\n",
    ")\n",
    "\n",
    "pix_kpc, half_map_kpc = ppf.cluster.arcsec2kpc(ppf.pix_size), ppf.cluster.arcsec2kpc(ppf.map_size * 60 / 2)\n",
    "beam_kpc = ppf.cluster.arcsec2kpc(18.0)\n",
    "r_bins = np.concatenate(([pix_kpc], np.logspace(np.log10(beam_kpc), np.log10(1.1 * half_map_kpc), 4)))\n",
    "\n",
    "ppf.define_model(r_bins)\n",
    "\n",
    "tf = Table.read(\"./example_data/NIKA2/nk2_tf.fits\")\n",
    "ppf.add_filtering(beam_fwhm=18.0, k=tf[\"k\"], tf=tf[\"tf_2mm\"], pad=20)\n",
    "\n",
    "P_bins = p2.utils.gNFW(r_bins, *ppf.cluster.A10_params)\n",
    "ppf.define_priors(\n",
    "    P_bins=[ss.loguniform(0.01 * P, 100.0 * P) for P in P_bins],\n",
    "    conv=ss.norm(-12.0, 1.2),\n",
    "    zero=ss.norm(0.0, 1e-3)\n",
    ")\n",
    "ppf.dump_to_file(f\"{path}/C2_nk2.panco2\")\n",
    "\n",
    "plt.close(\"all\")\n",
    "fig, ax = plt.subplots()\n",
    "ax.loglog(r_bins, P_bins, \"o-\")\n",
    "for x in [pix_kpc, beam_kpc / 2, beam_kpc, half_map_kpc, half_map_kpc * np.sqrt(2)]:\n",
    "    ax.axvline(x, 0, 1, color=\"k\", ls=\":\")\n",
    "ax.axvline(ppf.cluster.R_500, 0, 1, color=\"k\", ls=\"--\")\n",
    "\n",
    "par_vec = np.append(P_bins, [-12.0, 0.0])\n",
    "_ = p2.results.plot_data_model_residuals(ppf, par_vec, smooth=1.0, cbar_fact=1e3, cbar_label=\"NIKA2 150 GHz [mJy/beam]\", lims=\"sym\")\n",
    "_, ax = p2.results.plot_data_model_residuals_1d(ppf, par_vec=par_vec, y_fact=-1e3, y_label=\"NIKA2 150 GHz [mJy/beam]\", x_log=True)"
   ]
  },
  {
   "cell_type": "code",
   "execution_count": null,
   "id": "07e2515b-8a38-4c1b-8a0f-093ef0555b2c",
   "metadata": {},
   "outputs": [],
   "source": [
    "_ = ppf.run_mcmc(\n",
    "    30, 1e5, 4, n_check=1e3, max_delta_tau=0.02, min_autocorr_times=20, \n",
    "    out_chains_file=f\"{path}/rawchains.npz\", plot_convergence=f\"{path}/mcmc_convergence.pdf\"\n",
    ")"
   ]
  },
  {
   "cell_type": "code",
   "execution_count": null,
   "id": "d22e0796-58d0-4554-a232-b62daea8450b",
   "metadata": {},
   "outputs": [],
   "source": [
    "path = \"./results/C3/NIKA2/\"\n",
    "ppf = p2.PressureProfileFitter.load_from_file(f\"{path}/C2_nk2.panco2\")\n",
    "chains_clean = p2.results.load_chains(f\"{path}/rawchains.npz\", 500, 20, clip_percent=20.0, verbose=True)"
   ]
  },
  {
   "cell_type": "code",
   "execution_count": null,
   "id": "16219b0d-4cb6-490e-974b-8fb64b11f046",
   "metadata": {},
   "outputs": [],
   "source": [
    "plt.close(\"all\")\n",
    "_ = p2.results.mcmc_trace_plot(chains_clean, filename=f\"{path}/mcmc_trace.png\")"
   ]
  },
  {
   "cell_type": "code",
   "execution_count": null,
   "id": "ba876a26-03e0-4dfa-8dbc-07580b51dc62",
   "metadata": {},
   "outputs": [],
   "source": [
    "_ = p2.results.mcmc_corner_plot(chains_clean, ppf=ppf, filename=f\"{path}/mcmc_corner.pdf\")"
   ]
  },
  {
   "cell_type": "code",
   "execution_count": null,
   "id": "39709cb5-172c-4868-a3a7-9c89bf60f21a",
   "metadata": {},
   "outputs": [],
   "source": [
    "meds = dict(chains_clean.median())\n",
    "p2.results.plot_data_model_residuals(\n",
    "    ppf, par_dic=meds, smooth=1.0, cbar_fact=1e3, cmap=\"RdBu_r\", lims=\"sym\",\n",
    "    cbar_label=\"NIKA2 150 GHz [mJy/beam]\", filename=f\"{path}/data_model_residuals_maps.pdf\"\n",
    ")\n",
    "#p2.results.plot_data_model_residuals_1d(\n",
    "#    ppf, chains_clean=chains_clean, y_fact=-1e3, plot_beam=True, \n",
    "#    y_label=\"NIKA2 150 GHz [mJy/beam]\", filename=f\"{path}/data_model_residuals_profiles.pdf\", x_log=True\n",
    "#)"
   ]
  },
  {
   "cell_type": "code",
   "execution_count": null,
   "id": "3cb70d0f-b2a0-421f-a2b5-b982a680fda7",
   "metadata": {},
   "outputs": [],
   "source": [
    "r_range = np.logspace(np.log10(ppf.cluster.arcsec2kpc(ppf.pix_size)), np.log10(ppf.cluster.arcsec2kpc(ppf.map_size * 60 / np.sqrt(2))), 100)\n",
    "fig, ax = p2.results.plot_profile(chains_clean, ppf, r_range=r_range, label=\"panco2\")\n",
    "ax.plot(r_range, p2.utils.gNFW(r_range, *ppf.cluster.A10_params), \"k--\", label=\"Truth\")\n",
    "ax.legend(frameon=False)\n",
    "fig.savefig(f\"{path}/pressure_profile.pdf\")"
   ]
  },
  {
   "cell_type": "code",
   "execution_count": null,
   "id": "87f67ba9-447b-4b37-a829-478fdcbd43cc",
   "metadata": {},
   "outputs": [],
   "source": []
  }
 ],
 "metadata": {
  "kernelspec": {
   "display_name": "Python 3 (ipykernel)",
   "language": "python",
   "name": "python3"
  },
  "language_info": {
   "codemirror_mode": {
    "name": "ipython",
    "version": 3
   },
   "file_extension": ".py",
   "mimetype": "text/x-python",
   "name": "python",
   "nbconvert_exporter": "python",
   "pygments_lexer": "ipython3",
   "version": "3.10.4"
  }
 },
 "nbformat": 4,
 "nbformat_minor": 5
}

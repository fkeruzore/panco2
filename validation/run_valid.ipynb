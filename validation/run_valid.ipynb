{
 "cells": [
  {
   "cell_type": "code",
   "execution_count": null,
   "id": "c6beee18-aa08-4dc7-be98-5f884f5d128a",
   "metadata": {},
   "outputs": [],
   "source": [
    "%load_ext autoreload\n",
    "%autoreload 2\n",
    "%matplotlib widget"
   ]
  },
  {
   "cell_type": "code",
   "execution_count": null,
   "id": "b0e7c9b7-be5d-4b19-b62f-a7b7d58af927",
   "metadata": {},
   "outputs": [],
   "source": [
    "import numpy as np\n",
    "import matplotlib.pyplot as plt\n",
    "import matplotlib as mpl\n",
    "from astropy.table import Table\n",
    "from astropy.coordinates import SkyCoord\n",
    "from astropy.io import fits\n",
    "import astropy.units as u\n",
    "import scipy.stats as ss"
   ]
  },
  {
   "cell_type": "code",
   "execution_count": null,
   "id": "e1e9c84c-2ad6-4244-816c-5269f8d9aa94",
   "metadata": {},
   "outputs": [],
   "source": [
    "import sys\n",
    "sys.path.append(\"..\")\n",
    "import panco2 as p2"
   ]
  },
  {
   "cell_type": "markdown",
   "id": "b709bede-6385-4ab0-aac7-84739a98c6cc",
   "metadata": {
    "tags": []
   },
   "source": [
    "# C1"
   ]
  },
  {
   "cell_type": "markdown",
   "id": "5696faf2-caa5-46cc-afb0-0ebe24d8305c",
   "metadata": {
    "tags": []
   },
   "source": [
    "## C1 with Planck"
   ]
  },
  {
   "cell_type": "code",
   "execution_count": null,
   "id": "bb227e1c-490a-4bcd-8309-f933bb8f127f",
   "metadata": {},
   "outputs": [],
   "source": [
    "path = \"./results/C1/Planck\"\n",
    "ppf = p2.PressureProfileFitter(\n",
    "    f\"{path}/input_map.fits\",\n",
    "    1, 5,\n",
    "    0.05, 9e14,\n",
    "    map_size=4.0 * 60,\n",
    "    coords_center=SkyCoord(\"12h00m00s +00d00m00s\")\n",
    ")\n",
    "\n",
    "pix_kpc, half_map_kpc = ppf.cluster.arcsec2kpc(ppf.pix_size), ppf.cluster.arcsec2kpc(ppf.map_size * 60 / 2)\n",
    "beam_kpc = ppf.cluster.arcsec2kpc(600.0)\n",
    "r_bins = np.concatenate(([pix_kpc], np.logspace(np.log10(beam_kpc), np.log10(1.1 * half_map_kpc), 4)))\n",
    "\n",
    "ppf.define_model(\"binned\", r_bins)\n",
    "\n",
    "ppf.add_filtering(beam_fwhm=600.0)\n",
    "\n",
    "P_bins = p2.utils.gNFW(r_bins, *ppf.cluster.A10_params)\n",
    "ppf.define_priors(\n",
    "    P_bins=[ss.loguniform(0.01 * P, 100.0 * P) for P in P_bins],\n",
    "    conv=ss.norm(1.0, 0.05),\n",
    "    zero=ss.norm(0.0, 1e-5)\n",
    ")\n",
    "ppf.dump_to_file(f\"{path}/C1_planck.panco2\")\n",
    "\n",
    "plt.close(\"all\")\n",
    "fig, ax = plt.subplots()\n",
    "ax.loglog(r_bins, P_bins, \"o-\")\n",
    "for x in [pix_kpc, beam_kpc / 2, beam_kpc, half_map_kpc, half_map_kpc * np.sqrt(2)]:\n",
    "    ax.axvline(x, 0, 1, color=\"k\", ls=\":\")\n",
    "ax.axvline(ppf.cluster.R_500, 0, 1, color=\"k\", ls=\"--\")\n",
    "\n",
    "par_vec = np.append(P_bins, [1.0, 0.0])\n",
    "_ = p2.results.plot_data_model_residuals(ppf, par_vec, smooth=0.5, cbar_fact=1e5, cbar_label=\"Compton $y \\\\times 10^5$\")\n",
    "_, ax = p2.results.plot_data_model_residuals_1d(ppf, par_vec=par_vec, y_fact=1e5, y_label=\"Compton $y \\\\times 10^5$\")\n",
    "ax.set_xscale(\"log\")\n",
    "ax.set_xlim(ppf.pix_size / 2, ppf.map_size * 60 / np.sqrt(2))"
   ]
  },
  {
   "cell_type": "code",
   "execution_count": null,
   "id": "965293d3-4e63-4515-b1f6-d458066eeebd",
   "metadata": {},
   "outputs": [],
   "source": [
    "_ = ppf.run_mcmc(\n",
    "    30, 1e5, 4, n_check=1e3, max_delta_tau=0.02, min_autocorr_times=20, \n",
    "    out_chains_file=f\"{path}/rawchains.npz\", plot_convergence=f\"{path}/mcmc_convergence.pdf\"\n",
    ")"
   ]
  },
  {
   "cell_type": "code",
   "execution_count": null,
   "id": "8d0866b0-b8a8-42d9-a972-378ab4a17ddd",
   "metadata": {},
   "outputs": [],
   "source": [
    "chains_clean = p2.results.load_chains(f\"{path}/rawchains.npz\", 500, 50, clip_percent=25.0, verbose=True)"
   ]
  },
  {
   "cell_type": "code",
   "execution_count": null,
   "id": "40f2000c-a7ec-493f-967f-67abb056e98d",
   "metadata": {},
   "outputs": [],
   "source": [
    "plt.close(\"all\")\n",
    "_ = p2.results.mcmc_trace_plot(chains_clean, filename=f\"{path}/mcmc_trace.png\")"
   ]
  },
  {
   "cell_type": "code",
   "execution_count": null,
   "id": "4a04b805-ef9c-4f1c-991a-424863cbd201",
   "metadata": {},
   "outputs": [],
   "source": [
    "_ = p2.results.mcmc_corner_plot(chains_clean, ppf=ppf)"
   ]
  },
  {
   "cell_type": "code",
   "execution_count": null,
   "id": "3c818ffc-c1d0-4d82-b49b-b1d6bf2e1385",
   "metadata": {},
   "outputs": [],
   "source": [
    "meds = dict(chains_clean.median())\n",
    "p2.results.plot_data_model_residuals(\n",
    "    ppf, par_dic=meds, smooth=0.5, cbar_fact=1e5, lims=\"sym\",\n",
    "    cbar_label=\"Compton $y \\\\times 10^5$\", filename=f\"{path}/data_model_residuals_maps.pdf\"\n",
    ")\n",
    "p2.results.plot_data_model_residuals_1d(\n",
    "    ppf, par_dic=meds, y_fact=1e5, plot_beam=False, \n",
    "    y_label=\"Compton $y \\\\times 10^5$\", filename=f\"{path}/data_model_residuals_profiles.pdf\", x_log=True\n",
    ")"
   ]
  },
  {
   "cell_type": "code",
   "execution_count": null,
   "id": "eb4e7e44-a212-44bf-8c1b-44bc56bffa92",
   "metadata": {},
   "outputs": [],
   "source": [
    "r_range = np.logspace(np.log10(pix_kpc), np.log10(half_map_kpc * np.sqrt(2)), 100)\n",
    "fig, ax = p2.results.plot_profile(chains_clean, ppf, r_range=r_range, label=\"panco2\")\n",
    "ax.plot(r_range, p2.utils.gNFW(r_range, *ppf.cluster.A10_params), \"k--\", label=\"Truth\")\n",
    "ax.legend(frameon=False)\n",
    "fig.savefig(f\"{path}/pressure_profile.pdf\")"
   ]
  },
  {
   "cell_type": "markdown",
   "id": "bde4a7f2-61a6-42de-b7c0-feb7fefd07d5",
   "metadata": {
    "tags": []
   },
   "source": [
    "## C1 with SPT"
   ]
  },
  {
   "cell_type": "code",
   "execution_count": null,
   "id": "e49a93e6-35df-436e-896e-9ab3f127c4e2",
   "metadata": {},
   "outputs": [],
   "source": [
    "path = \"./results/C1/SPT/\"\n",
    "ppf = p2.PressureProfileFitter(\n",
    "    f\"{path}/input_map.fits\",\n",
    "    1, 5,\n",
    "    0.05, 9e14,\n",
    "    map_size=1.0 * 60,\n",
    "    coords_center=SkyCoord(\"12h00m00s +00d00m00s\")\n",
    ")\n",
    "ppf.sz_rms *= 2\n",
    "\n",
    "pix_kpc, half_map_kpc = ppf.cluster.arcsec2kpc(ppf.pix_size), ppf.cluster.arcsec2kpc(ppf.map_size * 60 / 2)\n",
    "beam_kpc = ppf.cluster.arcsec2kpc(75.0)\n",
    "r_bins = np.concatenate(([pix_kpc], np.logspace(np.log10(beam_kpc), np.log10(1.1 * half_map_kpc), 4)))\n",
    "#r_bins = np.logspace(np.log10(pix_kpc), np.log10(half_map_kpc), 6)\n",
    "\n",
    "ppf.define_model(\"binned\", r_bins)\n",
    "\n",
    "ppf.add_filtering(beam_fwhm=75.0)\n",
    "\n",
    "P_bins = p2.utils.gNFW(r_bins, *ppf.cluster.A10_params)\n",
    "ppf.define_priors(\n",
    "    P_bins=[ss.loguniform(0.01 * P, 100.0 * P) for P in P_bins],\n",
    "    conv=ss.norm(1.0, 0.05),\n",
    "    zero=ss.norm(0.0, 1e-5)\n",
    ")\n",
    "ppf.dump_to_file(f\"{path}/C1_spt.panco2\")\n",
    "\n",
    "plt.close(\"all\")\n",
    "fig, ax = plt.subplots()\n",
    "ax.loglog(r_bins, P_bins, \"o-\")\n",
    "for x in [pix_kpc, beam_kpc / 2, beam_kpc, half_map_kpc, half_map_kpc * np.sqrt(2)]:\n",
    "    ax.axvline(x, 0, 1, color=\"k\", ls=\":\")\n",
    "ax.axvline(ppf.cluster.R_500, 0, 1, color=\"k\", ls=\"--\")\n",
    "\n",
    "par_vec = np.append(P_bins, [1.0, 0.0])\n",
    "_ = p2.results.plot_data_model_residuals(ppf, par_vec, smooth=1.0, cbar_fact=1e5, cbar_label=\"Compton $y \\\\times 10^5$\")\n",
    "_, ax = p2.results.plot_data_model_residuals_1d(ppf, par_vec=par_vec, y_fact=1e5, y_label=\"Compton $y \\\\times 10^5$\", x_log=True)"
   ]
  },
  {
   "cell_type": "code",
   "execution_count": null,
   "id": "68f359a5-4f94-49f5-95e1-887f1c11d9d4",
   "metadata": {},
   "outputs": [],
   "source": [
    "_ = ppf.run_mcmc(\n",
    "    30, 1e5, 4, n_check=1e3, max_delta_tau=0.02, min_autocorr_times=20, \n",
    "    out_chains_file=f\"{path}/rawchains.npz\", plot_convergence=f\"{path}/mcmc_convergence.pdf\"\n",
    ")"
   ]
  },
  {
   "cell_type": "code",
   "execution_count": null,
   "id": "513568ea-1970-4371-a718-a7fd106f2568",
   "metadata": {},
   "outputs": [],
   "source": [
    "chains_clean = p2.results.load_chains(f\"{path}/rawchains.npz\", 500, 20, clip_percent=25.0, verbose=True)"
   ]
  },
  {
   "cell_type": "code",
   "execution_count": null,
   "id": "e40400e5-7cbb-41e1-bd50-2df528daab91",
   "metadata": {},
   "outputs": [],
   "source": [
    "plt.close(\"all\")\n",
    "_ = p2.results.mcmc_trace_plot(chains_clean, filename=f\"{path}/mcmc_trace.png\")"
   ]
  },
  {
   "cell_type": "code",
   "execution_count": null,
   "id": "3f570990-eb73-4cc3-a421-8d345f6f44ec",
   "metadata": {},
   "outputs": [],
   "source": [
    "_ = p2.results.mcmc_corner_plot(chains_clean, ppf=ppf)"
   ]
  },
  {
   "cell_type": "code",
   "execution_count": null,
   "id": "f9b8c2d8-e466-49e1-b1a2-b7ce1d70b5c9",
   "metadata": {},
   "outputs": [],
   "source": [
    "meds = dict(chains_clean.median())\n",
    "p2.results.plot_data_model_residuals(\n",
    "    ppf, par_dic=meds, smooth=1.0, cbar_fact=1e5, lims=\"sym\",\n",
    "    cbar_label=\"Compton $y \\\\times 10^5$\", filename=f\"{path}/data_model_residuals_maps.pdf\"\n",
    ")\n",
    "p2.results.plot_data_model_residuals_1d(\n",
    "    ppf, par_dic=meds, y_fact=1e5, plot_beam=False, \n",
    "    y_label=\"Compton $y \\\\times 10^5$\", filename=f\"{path}/data_model_residuals_profiles.pdf\", x_log=True\n",
    ")"
   ]
  },
  {
   "cell_type": "code",
   "execution_count": null,
   "id": "a83531f7-5d87-41ae-a138-57905df30d96",
   "metadata": {},
   "outputs": [],
   "source": [
    "r_range = np.logspace(np.log10(pix_kpc), np.log10(half_map_kpc * np.sqrt(2)), 100)\n",
    "fig, ax = p2.results.plot_profile(chains_clean, ppf, r_range=r_range, label=\"panco2\")\n",
    "ax.plot(r_range, p2.utils.gNFW(r_range, *ppf.cluster.A10_params), \"k--\", label=\"Truth\")\n",
    "ax.legend(frameon=False)\n",
    "fig.savefig(f\"{path}/pressure_profile.pdf\")"
   ]
  },
  {
   "cell_type": "markdown",
   "id": "81f22145-ba98-46db-8fd7-127a0348ef48",
   "metadata": {
    "tags": []
   },
   "source": [
    "# C2"
   ]
  },
  {
   "cell_type": "markdown",
   "id": "46a9d5ff-5abc-4925-a1e1-9ef974bba1c6",
   "metadata": {
    "jp-MarkdownHeadingCollapsed": true,
    "tags": []
   },
   "source": [
    "## C2 with NIKA2"
   ]
  },
  {
   "cell_type": "code",
   "execution_count": null,
   "id": "ad2bcd07-40d8-40b0-98d2-a44271e32ebd",
   "metadata": {},
   "outputs": [],
   "source": [
    "path = \"./results/C2/NIKA2/\"\n",
    "make_sim_map_nika2(0.5, 5e14, f\"{path}/map_C2_nk2.fits\", conv=-12.0, zero=0.0, map_size=8.5)"
   ]
  },
  {
   "cell_type": "code",
   "execution_count": null,
   "id": "30af0a6e-ba74-4a2d-bb95-86051f2dfb72",
   "metadata": {},
   "outputs": [],
   "source": [
    "mapview.fitsview(f\"{path}/map_C2_nk2.fits\", 1, smooth=1.0, fwhm=3.0, imrange=\"sym\")"
   ]
  },
  {
   "cell_type": "code",
   "execution_count": null,
   "id": "61c91d7b-d701-4868-8ab5-2bfea9065098",
   "metadata": {},
   "outputs": [],
   "source": [
    "ppf = p2.PressureProfileFitter(\n",
    "    f\"{path}/map_C2_nk2.fits\",\n",
    "    1,\n",
    "    5,\n",
    "    0.5,\n",
    "    M_500=5e14,\n",
    "    map_size=6.5\n",
    ")\n",
    "\n",
    "pix_kpc, map_kpc = ppf.cluster.arcsec2kpc(ppf.pix_size), ppf.cluster.arcsec2kpc(60 * ppf.map_size)\n",
    "r_bins = [pix_kpc]\n",
    "while r_bins[-1] < map_kpc / 2:\n",
    "    r_bins.append(3 * r_bins[-1])\n",
    "#_ =  r_bins.pop(1)\n",
    "r_bins = np.array(r_bins)\n",
    "\n",
    "ppf.define_model(\"binned\", r_bins)\n",
    "\n",
    "P_bins = p2.utils.gNFW(ppf.model.r_bins, *ppf.cluster.A10_params)\n",
    "ppf.define_priors(\n",
    "    P_bins=[ss.loguniform(0.01 * P, 100.0 * P) for P in P_bins],\n",
    "    conv=ss.norm(-12.0, 1.2),\n",
    "    zero=ss.norm(0.0, 1e-3)\n",
    ")\n",
    "\n",
    "tf = Table.read(\"./example_data/NIKA2/nk2_tf.fits\")\n",
    "ppf.add_filtering(\n",
    "    beam_fwhm=18.0,\n",
    "    k=tf[\"k\"].to(\"arcsec-1\").value,\n",
    "    tf=tf[\"tf_2mm\"].value,\n",
    "    pad=60,\n",
    ")\n",
    "ppf.dump_to_file(f\"{path}/C2_nk2.panco2\")"
   ]
  },
  {
   "cell_type": "code",
   "execution_count": null,
   "id": "82d5eb88-f6dd-4685-80af-15dbfb44219c",
   "metadata": {},
   "outputs": [],
   "source": [
    "fig, ax = plt.subplots()\n",
    "ax.semilogx(r_bins, np.zeros_like(r_bins), \"o-\")\n",
    "for x in [ppf.cluster.arcsec2kpc(ppf.pix_size), ppf.cluster.arcsec2kpc(ppf.beam_fwhm / 2), ppf.cluster.arcsec2kpc(ppf.map_size * 30)]:\n",
    "    ax.axvline(x, 0, 1, color=\"k\", ls=\"--\")\n",
    "\n",
    "par_vec = np.append(P_bins, [-12.0, 0.0])\n",
    "_ = p2.results.plot_data_model_residuals(ppf, par_vec, smooth=1.0, cbar_fact=1e3)"
   ]
  },
  {
   "cell_type": "code",
   "execution_count": null,
   "id": "cb8df185-787b-47a9-8954-22393be4dcc1",
   "metadata": {},
   "outputs": [],
   "source": [
    "_ = ppf.run_mcmc(\n",
    "    30, 5e4, 4, n_check=1e3, max_delta_tau=0.02, min_autocorr_times=50, \n",
    "    out_chains_file=f\"{path}/rawchains_C2_nk2.npz\", plot_convergence=f\"{path}/mcmc_convergence.pdf\"\n",
    ")"
   ]
  },
  {
   "cell_type": "code",
   "execution_count": null,
   "id": "0cf1a364-9fcf-4af0-ad4f-16887a869f6f",
   "metadata": {},
   "outputs": [],
   "source": [
    "chains_clean = p2.results.load_chains(f\"{path}/rawchains_C2_nk2.npz\", 500, 25, clip_percent=25.0, verbose=True)"
   ]
  },
  {
   "cell_type": "code",
   "execution_count": null,
   "id": "80827817-7298-4c8c-b7f7-1049eb86aabd",
   "metadata": {},
   "outputs": [],
   "source": [
    "_ = p2.results.mcmc_trace_plot(chains_clean, filename=f\"{path}/mcmc_trace.pdf\")\n",
    "_ = p2.results.mcmc_corner_plot(chains_clean, ppf=ppf, filename=f\"{path}/mcmc_corner.pdf\")\n",
    "_ = p2.results.mcmc_matrices_plot(chains_clean, ppf, filename=f\"{path}/mcmc_corrmat.pdf\")"
   ]
  },
  {
   "cell_type": "code",
   "execution_count": null,
   "id": "d9303c4d-ab9f-44dc-9a45-1326d75b85f9",
   "metadata": {},
   "outputs": [],
   "source": [
    "meds = dict(chains_clean.median())\n",
    "p2.results.plot_data_model_residuals(\n",
    "    ppf, par_dic=meds, smooth=1.0, cbar_fact=1e3, lims=\"sym\",\n",
    "    cbar_label=\"NIKA2 150 GHz [mJy/beam]\", filename=f\"{path}/data_model_residuals_maps.pdf\"\n",
    ")\n",
    "p2.results.plot_data_model_residuals_1d(\n",
    "    ppf, par_dic=meds, y_fact=1e3, plot_beam=False, \n",
    "    y_label=\"NIKA2 150 GHz [mJy/beam]\", filename=f\"{path}/data_model_residuals_profiles.pdf\"\n",
    ")"
   ]
  },
  {
   "cell_type": "code",
   "execution_count": null,
   "id": "e5650a3f-25cc-49a5-ab16-15b9e9e5050e",
   "metadata": {},
   "outputs": [],
   "source": [
    "r_range = np.logspace(np.log10(pix_kpc), np.log10(map_kpc / np.sqrt(2)), 100)\n",
    "fig, ax = p2.results.plot_profile(chains_clean, ppf, r_range=r_range, label=\"panco2\")\n",
    "ax.legend(frameon=False)\n",
    "fig.savefig(f\"{path}/pressure_profile.pdf\")"
   ]
  },
  {
   "cell_type": "markdown",
   "id": "d71a9247-2157-4822-80d5-4f8c2a74145a",
   "metadata": {
    "tags": []
   },
   "source": [
    "## C2 with SPT"
   ]
  },
  {
   "cell_type": "code",
   "execution_count": null,
   "id": "64302988-c4dc-4998-b26f-74f8df48cd92",
   "metadata": {},
   "outputs": [],
   "source": [
    "path = \"./results/C2/SPT/\"\n",
    "make_sim_map_spt(0.5, 5e14, f\"{path}/map_C2_spt.fits\", conv=1.0, zero=0.0, map_size=90.0)"
   ]
  },
  {
   "cell_type": "code",
   "execution_count": null,
   "id": "c8e45e88-bf46-4dc8-9673-4a6f4f49ba71",
   "metadata": {},
   "outputs": [],
   "source": [
    "mapview.fitsview(f\"{path}/map_C2_spt.fits\", 1, fwhm=5.0, crop=30*u.arcmin, smooth=0.5)"
   ]
  },
  {
   "cell_type": "code",
   "execution_count": null,
   "id": "7d34ee49-d783-4612-9706-080e4fb4437f",
   "metadata": {},
   "outputs": [],
   "source": [
    "ppf = p2.PressureProfileFitter(\n",
    "    f\"{path}/map_C2_spt.fits\",\n",
    "    1,\n",
    "    5,\n",
    "    0.5,\n",
    "    M_500=5e14,\n",
    "    map_size=30.0\n",
    ")\n",
    "\n",
    "pix_kpc, map_kpc = ppf.cluster.arcsec2kpc(ppf.pix_size), ppf.cluster.arcsec2kpc(60 * ppf.map_size)\n",
    "r_bins = [pix_kpc]\n",
    "while r_bins[-1] < map_kpc / 2:\n",
    "    r_bins.append(4 * r_bins[-1])\n",
    "#_ =  r_bins.pop(1)\n",
    "r_bins = np.array(r_bins)\n",
    "\n",
    "ppf.define_model(\"binned\", r_bins)\n",
    "\n",
    "P_bins = p2.utils.gNFW(ppf.model.r_bins, *ppf.cluster.A10_params)\n",
    "ppf.define_priors(\n",
    "    P_bins=[ss.loguniform(0.01 * P, 100.0 * P) for P in P_bins],\n",
    "    conv=ss.norm(1.0, 0.05),\n",
    "    zero=ss.norm(0.0, 1e-5)\n",
    ")\n",
    "\n",
    "ppf.add_filtering(\n",
    "    beam_fwhm=75.0,\n",
    "    pad=0,\n",
    ")\n",
    "ppf.dump_to_file(f\"{path}/C2_spt.panco2\")"
   ]
  },
  {
   "cell_type": "code",
   "execution_count": null,
   "id": "5b148be3-2b6d-437d-8668-50a2867564b7",
   "metadata": {},
   "outputs": [],
   "source": [
    "fig, ax = plt.subplots()\n",
    "ax.semilogx(r_bins, np.zeros_like(r_bins), \"o-\")\n",
    "for x in [ppf.cluster.arcsec2kpc(ppf.pix_size), ppf.cluster.arcsec2kpc(ppf.beam_fwhm / 2), ppf.cluster.arcsec2kpc(ppf.map_size * 30)]:\n",
    "    ax.axvline(x, 0, 1, color=\"k\", ls=\"--\")\n",
    "\n",
    "par_vec = np.append(P_bins, [1.0, 0.0])\n",
    "_ = p2.results.plot_data_model_residuals(ppf, par_vec, smooth=0.5, cbar_fact=1e5, cbar_label=\"Compton $y \\\\times 10^5$\")"
   ]
  },
  {
   "cell_type": "code",
   "execution_count": null,
   "id": "04a8a96d-9a35-4c88-9251-7fa010baae7e",
   "metadata": {},
   "outputs": [],
   "source": [
    "_ = ppf.run_mcmc(\n",
    "    30, 5e4, 4, n_check=1e3, max_delta_tau=0.02, min_autocorr_times=50, \n",
    "    out_chains_file=f\"{path}/rawchains_C2_spt.npz\", plot_convergence=f\"{path}/mcmc_convergence.pdf\"\n",
    ")"
   ]
  },
  {
   "cell_type": "code",
   "execution_count": null,
   "id": "24085ca4-7114-4285-ac5c-d94a464b3195",
   "metadata": {},
   "outputs": [],
   "source": [
    "chains_clean = p2.results.load_chains(f\"{path}/rawchains_C2_spt.npz\", 500, 25, clip_percent=25.0, verbose=True)"
   ]
  },
  {
   "cell_type": "code",
   "execution_count": null,
   "id": "f134e72d-bbfb-4ff5-bced-338a335b7db7",
   "metadata": {},
   "outputs": [],
   "source": [
    "_ = p2.results.mcmc_trace_plot(chains_clean, filename=f\"{path}/mcmc_trace.pdf\")\n",
    "_ = p2.results.mcmc_corner_plot(chains_clean, ppf=ppf, filename=f\"{path}/mcmc_corner.pdf\")\n",
    "_ = p2.results.mcmc_matrices_plot(chains_clean, ppf, filename=f\"{path}/mcmc_corrmat.pdf\")"
   ]
  },
  {
   "cell_type": "code",
   "execution_count": null,
   "id": "f67d7a14-8a61-4487-8326-0fb67e483eca",
   "metadata": {},
   "outputs": [],
   "source": [
    "meds = dict(chains_clean.median())\n",
    "p2.results.plot_data_model_residuals(\n",
    "    ppf, par_dic=meds, smooth=1.0, cbar_fact=1e5, lims=\"sym\",\n",
    "    cbar_label=\"Compton $y \\\\times 10^5$\", filename=f\"{path}/data_model_residuals_maps.pdf\"\n",
    ")\n",
    "p2.results.plot_data_model_residuals_1d(\n",
    "    ppf, par_dic=meds, y_fact=1e5, plot_beam=False, \n",
    "    y_label=\"Compton $y \\\\times 10^5$\", filename=f\"{path}/data_model_residuals_profiles.pdf\"\n",
    ")"
   ]
  },
  {
   "cell_type": "code",
   "execution_count": null,
   "id": "e52606c4-e3eb-43ea-a858-2f2e93b144c7",
   "metadata": {},
   "outputs": [],
   "source": [
    "r_range = np.logspace(np.log10(pix_kpc), np.log10(map_kpc / np.sqrt(2)), 100)\n",
    "fig, ax = p2.results.plot_profile(chains_clean, ppf, r_range=r_range, label=\"panco2\")\n",
    "ax.legend(frameon=False)\n",
    "fig.savefig(f\"{path}/pressure_profile.pdf\")"
   ]
  },
  {
   "cell_type": "code",
   "execution_count": null,
   "id": "26e6817c-00a3-470e-a343-f70e51f0d945",
   "metadata": {},
   "outputs": [],
   "source": []
  }
 ],
 "metadata": {
  "kernelspec": {
   "display_name": "Python 3 (ipykernel)",
   "language": "python",
   "name": "python3"
  },
  "language_info": {
   "codemirror_mode": {
    "name": "ipython",
    "version": 3
   },
   "file_extension": ".py",
   "mimetype": "text/x-python",
   "name": "python",
   "nbconvert_exporter": "python",
   "pygments_lexer": "ipython3",
   "version": "3.10.4"
  }
 },
 "nbformat": 4,
 "nbformat_minor": 5
}

{
 "cells": [
  {
   "cell_type": "code",
   "execution_count": 1,
   "id": "f92d5298-f903-4675-b8ec-715b60ecf530",
   "metadata": {},
   "outputs": [],
   "source": [
    "%matplotlib widget\n",
    "%load_ext autoreload\n",
    "%autoreload 2"
   ]
  },
  {
   "cell_type": "code",
   "execution_count": 2,
   "id": "a5c6799f-7ae3-4b02-b724-fcc3efdd683e",
   "metadata": {},
   "outputs": [],
   "source": [
    "import numpy as np\n",
    "import matplotlib.pyplot as plt\n",
    "import scipy.stats as ss\n",
    "import pandas as pd\n",
    "import seaborn as sns\n",
    "from panco2 import PressureProfileFitter\n",
    "from utils import gNFW\n",
    "import results"
   ]
  },
  {
   "cell_type": "code",
   "execution_count": 3,
   "id": "4d44abc4-b164-4761-acc6-398a07618911",
   "metadata": {},
   "outputs": [],
   "source": [
    "path = \"../Tests/test0/\"\n",
    "\n",
    "ppf = PressureProfileFitter(\n",
    "    f\"{path}/map.fits\",\n",
    "    1,\n",
    "    2,\n",
    "    0.865,\n",
    "    M_500=3.5e14,\n",
    ")\n",
    "\n",
    "r_bins = np.logspace(\n",
    "    np.log10(ppf.cluster.arcsec2kpc(9.0)), np.log10(ppf.cluster.arcsec2kpc(180.0)), 5\n",
    ")\n",
    "\n",
    "ppf.define_model(\"binned\", r_bins)\n",
    "P_bins = gNFW(ppf.model.r_bins, *ppf.cluster.A10_params)\n",
    "par_vec = np.append(P_bins, [-11.9, 0.0])\n",
    "par_dic = ppf.model.par_vec2dic(par_vec)\n",
    "\n",
    "ppf.add_filtering(beam_fwhm=18.0)\n",
    "ppf.define_priors(\n",
    "    P_bins=[ss.loguniform(0.1 * P, 10.0 * P) for P in P_bins],\n",
    "    conv=ss.norm(-11.90, 1.19),\n",
    "    zero=ss.norm(0.0, 1e-4)\n",
    ")\n",
    "ppf.dump_to_file(f\"{path}/ppf.panco2\")"
   ]
  },
  {
   "cell_type": "markdown",
   "id": "77a80257-b758-4238-9261-905f272bac21",
   "metadata": {},
   "source": [
    "# MCMC"
   ]
  },
  {
   "cell_type": "code",
   "execution_count": null,
   "id": "815060a6-5341-48ff-9fab-60d3e5dbb952",
   "metadata": {},
   "outputs": [
    {
     "name": "stderr",
     "output_type": "stream",
     "text": [
      "/Users/fkeruzore/.miniconda3/envs/panco2/lib/python3.10/site-packages/scipy/optimize/_numdiff.py:576: RuntimeWarning: invalid value encountered in subtract\n",
      "  df = fun(x) - f0\n",
      " 10%|█████████████▉                                                                                                                             | 1002/10000 [00:46<07:14, 20.69it/s]"
     ]
    },
    {
     "name": "stdout",
     "output_type": "stream",
     "text": [
      "    1000 iterations\n"
     ]
    },
    {
     "name": "stderr",
     "output_type": "stream",
     "text": [
      " 20%|███████████████████████████▊                                                                                                               | 2004/10000 [01:32<06:02, 22.07it/s]"
     ]
    },
    {
     "name": "stdout",
     "output_type": "stream",
     "text": [
      "    2000 iterations\n"
     ]
    },
    {
     "name": "stderr",
     "output_type": "stream",
     "text": [
      " 30%|█████████████████████████████████████████▋                                                                                                 | 3003/10000 [02:17<05:18, 21.96it/s]"
     ]
    },
    {
     "name": "stdout",
     "output_type": "stream",
     "text": [
      "    3000 iterations\n"
     ]
    },
    {
     "name": "stderr",
     "output_type": "stream",
     "text": [
      " 40%|███████████████████████████████████████████████████████▋                                                                                   | 4004/10000 [03:03<04:43, 21.13it/s]"
     ]
    },
    {
     "name": "stdout",
     "output_type": "stream",
     "text": [
      "    4000 iterations\n"
     ]
    },
    {
     "name": "stderr",
     "output_type": "stream",
     "text": [
      " 50%|█████████████████████████████████████████████████████████████████████▌                                                                     | 5003/10000 [03:49<03:44, 22.30it/s]"
     ]
    },
    {
     "name": "stdout",
     "output_type": "stream",
     "text": [
      "    5000 iterations\n"
     ]
    },
    {
     "name": "stderr",
     "output_type": "stream",
     "text": [
      " 60%|███████████████████████████████████████████████████████████████████████████████████▍                                                       | 6002/10000 [04:35<03:01, 22.07it/s]"
     ]
    },
    {
     "name": "stdout",
     "output_type": "stream",
     "text": [
      "    6000 iterations\n"
     ]
    },
    {
     "name": "stderr",
     "output_type": "stream",
     "text": [
      " 70%|█████████████████████████████████████████████████████████████████████████████████████████████████▎                                         | 7004/10000 [05:21<02:20, 21.40it/s]"
     ]
    },
    {
     "name": "stdout",
     "output_type": "stream",
     "text": [
      "    7000 iterations\n"
     ]
    },
    {
     "name": "stderr",
     "output_type": "stream",
     "text": [
      " 80%|███████████████████████████████████████████████████████████████████████████████████████████████████████████████▏                           | 8003/10000 [06:07<01:30, 21.96it/s]"
     ]
    },
    {
     "name": "stdout",
     "output_type": "stream",
     "text": [
      "    8000 iterations\n"
     ]
    },
    {
     "name": "stderr",
     "output_type": "stream",
     "text": [
      " 90%|█████████████████████████████████████████████████████████████████████████████████████████████████████████████████████████████▏             | 9003/10000 [06:53<00:44, 22.27it/s]"
     ]
    },
    {
     "name": "stdout",
     "output_type": "stream",
     "text": [
      "    9000 iterations\n"
     ]
    },
    {
     "name": "stderr",
     "output_type": "stream",
     "text": [
      " 97%|██████████████████████████████████████████████████████████████████████████████████████████████████████████████████████████████████████▍    | 9668/10000 [07:23<00:15, 22.07it/s]"
     ]
    }
   ],
   "source": [
    "f = ppf.run_mcmc(30, 1e4, 6, n_check=1e3, out_chains_file=f\"{path}/raw_chains.npz\")"
   ]
  },
  {
   "cell_type": "markdown",
   "id": "24860722-6be7-498f-879a-b0f76e91b0f0",
   "metadata": {},
   "source": [
    "# Results"
   ]
  },
  {
   "cell_type": "code",
   "execution_count": null,
   "id": "73336922-da65-49e8-b846-20670d42f756",
   "metadata": {},
   "outputs": [],
   "source": [
    "chains_clean = results.load_chains(f\"{path}/raw_chains.npz\", 200, 20)"
   ]
  },
  {
   "cell_type": "code",
   "execution_count": null,
   "id": "ebe0ecad-03fa-4eb2-929f-dc4ea4d27e3b",
   "metadata": {},
   "outputs": [],
   "source": [
    "results.mcmc_corner_plot(chains_clean, model=ppf.model, show_probs=False, filename=f\"{path}/corner.png\")\n",
    "results.mcmc_trace_plot(chains_clean, filename=f\"{path}/trace.png\")"
   ]
  },
  {
   "cell_type": "code",
   "execution_count": null,
   "id": "28a6d308-bfda-4cf3-9aa8-25034dfb6890",
   "metadata": {},
   "outputs": [],
   "source": [
    "plt.close(\"all\")\n",
    "results.set_plot_style(\"seaborn\")\n",
    "fig = results.plot_results(ppf, chains_clean, truth_vec=par_vec)\n",
    "fig.savefig(f\"{path}/results.pdf\")"
   ]
  }
 ],
 "metadata": {
  "kernelspec": {
   "display_name": "Python 3 (ipykernel)",
   "language": "python",
   "name": "python3"
  },
  "language_info": {
   "codemirror_mode": {
    "name": "ipython",
    "version": 3
   },
   "file_extension": ".py",
   "mimetype": "text/x-python",
   "name": "python",
   "nbconvert_exporter": "python",
   "pygments_lexer": "ipython3",
   "version": "3.10.4"
  }
 },
 "nbformat": 4,
 "nbformat_minor": 5
}

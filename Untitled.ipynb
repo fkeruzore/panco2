{
 "cells": [
  {
   "cell_type": "code",
   "execution_count": 1,
   "id": "96fef77e-5bcc-4195-9c5f-8b87eb5e0974",
   "metadata": {},
   "outputs": [
    {
     "name": "stdout",
     "output_type": "stream",
     "text": [
      "The autoreload extension is already loaded. To reload it, use:\n",
      "  %reload_ext autoreload\n"
     ]
    }
   ],
   "source": [
    "%load_ext autoreload\n",
    "%autoreload 2\n",
    "%matplotlib widget\n",
    "import numpy as np\n",
    "import matplotlib.pyplot as plt\n",
    "from _cluster import Cluster\n",
    "from panco2 import PressureProfile, Dataset\n",
    "from _model_gnfw import gNFW\n",
    "import astropy.units as u\n",
    "from astropy.coordinates import SkyCoord\n",
    "from astropy.table import Table"
   ]
  },
  {
   "cell_type": "code",
   "execution_count": 2,
   "id": "857cad96-a78d-4ca6-b6ea-2234228e3970",
   "metadata": {},
   "outputs": [],
   "source": [
    "coords_center = SkyCoord(33.868157 * u.deg, 0.5088958 * u.deg)\n",
    "cluster_kwargs = {\n",
    "    \"z\": 0.865,\n",
    "    \"Y_500\": 1.8e-4 * u.arcmin ** 2,\n",
    "    \"err_Y_500\": 0.5e-4 * u.arcmin ** 2,\n",
    "    \"theta_500\": None,\n",
    "}\n",
    "\n",
    "cluster = Cluster(**cluster_kwargs)"
   ]
  },
  {
   "cell_type": "code",
   "execution_count": 3,
   "id": "403751ef-d1db-4fc5-95a8-faca71009914",
   "metadata": {},
   "outputs": [
    {
     "name": "stdout",
     "output_type": "stream",
     "text": [
      "    No covariance or noise simulations: considering white noise\n",
      "==> Dataset `NIKA2` loaded:\n",
      "    beam FWHM = 18.00 arcsec,\n",
      "    map size = 6.55 arcmin,\n",
      "    No noise covariance matrix\n",
      "    No covariance or noise simulations: considering white noise\n",
      "==> Dataset `NIKA3` loaded:\n",
      "    beam FWHM = 18.00 arcsec,\n",
      "    map size = 6.55 arcmin,\n",
      "    No noise covariance matrix\n",
      "==> Integrated SZ signal added:\n",
      "    Da2*Y = (38.00 +- 0.80) kpc2 within 800.00 kpc\n",
      "==> 12 parameters: ['P_0', 'P_1', 'P_2', 'P_3', 'P_4', 'P_5', 'P_6', 'P_7', 'conv_0', 'zero_0', 'conv_1', 'zero_1']\n"
     ]
    }
   ],
   "source": [
    "pp = PressureProfile(cluster, \"./Results/\")\n",
    "\n",
    "tf_nk2 = Table.read(\"./Demo/Data/transfer_function.fits\")\n",
    "pp.add_dataset(\n",
    "    Dataset(\n",
    "        \"./Demo/Data/map_input_sim.fits\",\n",
    "        4,\n",
    "        5,\n",
    "        18 * u.arcsec,\n",
    "        crop=6.5*u.arcmin,\n",
    "        coords_center=coords_center,\n",
    "        tf_k=tf_nk2[\"k\"],\n",
    "        tf_filtering=tf_nk2[\"tf_2mm\"],\n",
    "        name=\"NIKA2\",\n",
    "        conversion=(-12.0, 1.2),\n",
    "        d_a=cluster.d_a,\n",
    "    )\n",
    ")\n",
    "pp.add_dataset(\n",
    "    Dataset(\n",
    "        \"./Demo/Data/map_input_sim.fits\",\n",
    "        4,\n",
    "        5,\n",
    "        18 * u.arcsec,\n",
    "        crop=6.5*u.arcmin,\n",
    "        coords_center=coords_center,\n",
    "        tf_k=tf_nk2[\"k\"],\n",
    "        tf_filtering=tf_nk2[\"tf_2mm\"],\n",
    "        name=\"NIKA3\",\n",
    "        conversion=(-12.0, 1.2),\n",
    "        d_a=cluster.d_a,\n",
    "    )\n",
    ")\n",
    "pp.add_integrated_compton(38.0 * u.kpc ** 2, 0.8 * u.kpc ** 2, 800.0 * u.kpc)\n",
    "pp.init_radial_bins()\n",
    "pp.init_param_indices()"
   ]
  },
  {
   "cell_type": "code",
   "execution_count": 4,
   "id": "54d1c9d2-1128-4c9e-b07b-a309261832c5",
   "metadata": {},
   "outputs": [
    {
     "data": {
      "application/vnd.jupyter.widget-view+json": {
       "model_id": "52926b987aad414fbd04733c09e14c34",
       "version_major": 2,
       "version_minor": 0
      },
      "text/plain": [
       "Canvas(toolbar=Toolbar(toolitems=[('Home', 'Reset original view', 'home', 'home'), ('Back', 'Back to previous …"
      ]
     },
     "metadata": {},
     "output_type": "display_data"
    },
    {
     "data": {
      "text/plain": [
       "<matplotlib.colorbar.Colorbar at 0x7fd180fb37c0>"
      ]
     },
     "execution_count": 4,
     "metadata": {},
     "output_type": "execute_result"
    }
   ],
   "source": [
    "press_test = gNFW(pp.radius_tab.to('kpc').value, *cluster.A10_params)\n",
    "m = pp.datasets[0].compute_compton_map(press_test)\n",
    "\n",
    "fig, ax = plt.subplots()\n",
    "im = ax.imshow(m, origin=\"lower\", cmap=\"magma\")\n",
    "fig.colorbar(im)"
   ]
  },
  {
   "cell_type": "code",
   "execution_count": 11,
   "id": "ef3bcad2-19a4-43e6-a9f5-4db987b4be80",
   "metadata": {},
   "outputs": [
    {
     "name": "stdout",
     "output_type": "stream",
     "text": [
      "{'P_0': 0.0, 'P_1': 1.0, 'P_2': 2.0, 'P_3': 3.0, 'P_4': 4.0, 'P_5': 5.0, 'P_6': 6.0, 'P_7': 7.0, 'conv_0': 8.0, 'zero_0': 9.0, 'conv_1': 10.0, 'zero_1': 11.0}\n"
     ]
    },
    {
     "data": {
      "text/plain": [
       "True"
      ]
     },
     "execution_count": 11,
     "metadata": {},
     "output_type": "execute_result"
    }
   ],
   "source": [
    "woo = np.arange(len(pp.param_names), dtype=float)\n",
    "print(pp.params2dict(woo))\n",
    "len(woo[pp.indices_press]) == len(press_test)"
   ]
  },
  {
   "cell_type": "code",
   "execution_count": 16,
   "id": "2b5c15eb-916c-4062-b8d7-16ac577bd201",
   "metadata": {},
   "outputs": [
    {
     "ename": "AttributeError",
     "evalue": "'Dataset' object has no attribute '_compute_model_ps'",
     "output_type": "error",
     "traceback": [
      "\u001b[0;31m---------------------------------------------------------------------------\u001b[0m",
      "\u001b[0;31mAttributeError\u001b[0m                            Traceback (most recent call last)",
      "\u001b[0;32m/var/folders/w7/94bbnz1919x3g0_5vr1tw_d40000gn/T/ipykernel_73838/1461805221.py\u001b[0m in \u001b[0;36m<module>\u001b[0;34m\u001b[0m\n\u001b[1;32m      1\u001b[0m \u001b[0mds\u001b[0m \u001b[0;34m=\u001b[0m \u001b[0mpp\u001b[0m\u001b[0;34m.\u001b[0m\u001b[0mdatasets\u001b[0m\u001b[0;34m[\u001b[0m\u001b[0;36m0\u001b[0m\u001b[0;34m]\u001b[0m\u001b[0;34m\u001b[0m\u001b[0;34m\u001b[0m\u001b[0m\n\u001b[0;32m----> 2\u001b[0;31m \u001b[0mds\u001b[0m\u001b[0;34m.\u001b[0m\u001b[0mcompute_model\u001b[0m\u001b[0;34m(\u001b[0m\u001b[0mpress_test\u001b[0m\u001b[0;34m,\u001b[0m \u001b[0;36m1.0\u001b[0m\u001b[0;34m,\u001b[0m \u001b[0;36m0.0\u001b[0m\u001b[0;34m,\u001b[0m \u001b[0;36m0.0\u001b[0m\u001b[0;34m)\u001b[0m\u001b[0;34m\u001b[0m\u001b[0;34m\u001b[0m\u001b[0m\n\u001b[0m",
      "\u001b[0;32m~/panco2/_dataset.py\u001b[0m in \u001b[0;36mcompute_model\u001b[0;34m(self, pressure_tab, conv, zero, ps_fluxes)\u001b[0m\n\u001b[1;32m    400\u001b[0m             \u001b[0mself\u001b[0m\u001b[0;34m.\u001b[0m\u001b[0mcompute_SZ_map\u001b[0m\u001b[0;34m(\u001b[0m\u001b[0mpressure_tab\u001b[0m\u001b[0;34m,\u001b[0m \u001b[0mconv\u001b[0m\u001b[0;34m)\u001b[0m\u001b[0;34m\u001b[0m\u001b[0;34m\u001b[0m\u001b[0m\n\u001b[1;32m    401\u001b[0m             \u001b[0;34m+\u001b[0m \u001b[0mzero\u001b[0m\u001b[0;34m\u001b[0m\u001b[0;34m\u001b[0m\u001b[0m\n\u001b[0;32m--> 402\u001b[0;31m             \u001b[0;34m+\u001b[0m \u001b[0mself\u001b[0m\u001b[0;34m.\u001b[0m\u001b[0mcompute_model_ps\u001b[0m\u001b[0;34m(\u001b[0m\u001b[0mps_fluxes\u001b[0m\u001b[0;34m)\u001b[0m\u001b[0;34m\u001b[0m\u001b[0;34m\u001b[0m\u001b[0m\n\u001b[0m\u001b[1;32m    403\u001b[0m         )\n",
      "\u001b[0;32m~/panco2/_dataset.py\u001b[0m in \u001b[0;36mcompute_model_ps\u001b[0;34m(self, par)\u001b[0m\n\u001b[1;32m    340\u001b[0m             \u001b[0mthe\u001b[0m \u001b[0mpoint\u001b[0m \u001b[0msource\u001b[0m \u001b[0mmodel\u001b[0m \u001b[0mmap\u001b[0m\u001b[0;34m\u001b[0m\u001b[0;34m\u001b[0m\u001b[0m\n\u001b[1;32m    341\u001b[0m         \"\"\"\n\u001b[0;32m--> 342\u001b[0;31m         \u001b[0;32mreturn\u001b[0m \u001b[0mself\u001b[0m\u001b[0;34m.\u001b[0m\u001b[0m_compute_model_ps\u001b[0m\u001b[0;34m(\u001b[0m\u001b[0mpar\u001b[0m\u001b[0;34m)\u001b[0m\u001b[0;34m\u001b[0m\u001b[0;34m\u001b[0m\u001b[0m\n\u001b[0m\u001b[1;32m    343\u001b[0m \u001b[0;34m\u001b[0m\u001b[0m\n\u001b[1;32m    344\u001b[0m     \u001b[0;31m# ---------------------------------------------------------------------- #\u001b[0m\u001b[0;34m\u001b[0m\u001b[0;34m\u001b[0m\u001b[0;34m\u001b[0m\u001b[0m\n",
      "\u001b[0;31mAttributeError\u001b[0m: 'Dataset' object has no attribute '_compute_model_ps'"
     ]
    }
   ],
   "source": [
    "ds = pp.datasets[0]\n",
    "ds.compute_model(press_test, 1.0, 0.0, 0.0)"
   ]
  },
  {
   "cell_type": "code",
   "execution_count": 20,
   "id": "5efbac8f-83a7-464d-aa2f-f3f808d09ef2",
   "metadata": {},
   "outputs": [
    {
     "data": {
      "text/plain": [
       "array([[ 0.,  1.,  2.,  3.,  4.,  5.,  6.,  7.,  8.,  9., 10., 11.]])"
      ]
     },
     "execution_count": 20,
     "metadata": {},
     "output_type": "execute_result"
    }
   ],
   "source": []
  },
  {
   "cell_type": "code",
   "execution_count": null,
   "id": "56b22b4a-b9d7-4d1b-a4ec-9fe100bd3cb1",
   "metadata": {},
   "outputs": [],
   "source": []
  }
 ],
 "metadata": {
  "kernelspec": {
   "display_name": "Python 3 (ipykernel)",
   "language": "python",
   "name": "python3"
  },
  "language_info": {
   "codemirror_mode": {
    "name": "ipython",
    "version": 3
   },
   "file_extension": ".py",
   "mimetype": "text/x-python",
   "name": "python",
   "nbconvert_exporter": "python",
   "pygments_lexer": "ipython3",
   "version": "3.9.5"
  }
 },
 "nbformat": 4,
 "nbformat_minor": 5
}

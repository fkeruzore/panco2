{
 "cells": [
  {
   "cell_type": "code",
   "execution_count": 1,
   "id": "798c2e81-28ff-4777-8187-b61e0da27821",
   "metadata": {},
   "outputs": [],
   "source": [
    "%matplotlib widget\n",
    "%load_ext autoreload\n",
    "%autoreload 2"
   ]
  },
  {
   "cell_type": "code",
   "execution_count": 3,
   "id": "70e77c76-6d93-4950-82e0-bdba5d412409",
   "metadata": {},
   "outputs": [],
   "source": [
    "import numpy as np\n",
    "import matplotlib.pyplot as plt\n",
    "from astropy.io import fits\n",
    "from astropy.coordinates import SkyCoord\n",
    "from astropy.wcs import WCS\n",
    "from astropy.nddata import Cutout2D\n",
    "import astropy.units as u\n",
    "from scipy.ndimage import gaussian_filter"
   ]
  },
  {
   "cell_type": "markdown",
   "id": "fc63bc61-e629-4b5f-9ece-7d20d4ea67d8",
   "metadata": {
    "jp-MarkdownHeadingCollapsed": true,
    "tags": []
   },
   "source": [
    "# Read FITS header correctly"
   ]
  },
  {
   "cell_type": "code",
   "execution_count": null,
   "id": "e4802ec0-d8c2-456b-9d01-799907179cb3",
   "metadata": {},
   "outputs": [],
   "source": [
    "f = \"/Users/fkeruzore/Data/Misc/ACT_148_equ_season_4_1way_v3_src_free.fits\"\n",
    "# f = \"/Users/fkeruzore/Downloads/cmb_cib_nulled/SPTSZ_Planck_ra0h50dec-50_cmb_cib_nulled_ymap_half1.fits.gz\"\n",
    "# f = \"./nk2_actj0215_15.fits\"\n",
    "\n",
    "hdu_data = 0\n",
    "hdulist = fits.open(f)\n",
    "d = hdulist[hdu_data].data\n",
    "h = hdulist[hdu_data].header\n",
    "wcs = WCS(h)\n",
    "fig, ax = mapview.fitsview(f, hdu_data, cmap=\"seismic\", imrange=\"sym\")"
   ]
  },
  {
   "cell_type": "markdown",
   "id": "28a0e5bd-c860-4c7e-9110-d0e96bb7309b",
   "metadata": {
    "tags": []
   },
   "source": [
    "## Find the coordinates of the FITS center"
   ]
  },
  {
   "cell_type": "code",
   "execution_count": null,
   "id": "b6efe836-54cc-413a-8c93-9d2fdeecc5bf",
   "metadata": {},
   "outputs": [],
   "source": [
    "pix_center = np.array([h[f\"NAXIS{ii}\"] // 2 for ii in (1, 2)])\n",
    "ax.plot(*pix_center, \"k*\")\n",
    "ra, dec = wcs.all_pix2world([pix_center], 0)[0]\n",
    "coords_center = SkyCoord(ra=ra * u.deg, dec=dec * u.deg)\n",
    "print(coords_center.to_string(\"hmsdms\"))"
   ]
  },
  {
   "cell_type": "markdown",
   "id": "f71fb858-5d61-4d07-8417-ab26c8283537",
   "metadata": {},
   "source": [
    "## Find pixel size"
   ]
  },
  {
   "cell_type": "code",
   "execution_count": null,
   "id": "50a5510e-a144-4f43-aa3d-6f0eb3971cb7",
   "metadata": {},
   "outputs": [],
   "source": [
    "coords_pixs = wcs.all_pix2world([pix_center, pix_center + 1], 1)\n",
    "dx, dy = np.abs(coords_pixs[1] - coords_pixs[0])"
   ]
  },
  {
   "cell_type": "code",
   "execution_count": null,
   "id": "26847b27-7fff-4464-9827-d008e9fa237c",
   "metadata": {},
   "outputs": [],
   "source": [
    "dx * 3600, dy * 3600"
   ]
  },
  {
   "cell_type": "code",
   "execution_count": null,
   "id": "8df9191b-4ac0-40a3-89d1-0e4e2a236be7",
   "metadata": {},
   "outputs": [],
   "source": [
    "h[\"CDELT2\"] * 3600"
   ]
  },
  {
   "cell_type": "code",
   "execution_count": null,
   "id": "4499b408-1e9a-4faf-ba4b-ae4a9a887344",
   "metadata": {},
   "outputs": [],
   "source": [
    "np.array(d.shape) * h[\"CDELT2\"]"
   ]
  },
  {
   "cell_type": "markdown",
   "id": "460e82e6-bf24-4caf-b038-f0b17947b928",
   "metadata": {
    "tags": []
   },
   "source": [
    "# Make ACT cutout"
   ]
  },
  {
   "cell_type": "code",
   "execution_count": null,
   "id": "097e4778-e220-4fe7-b271-3feb1ee6e327",
   "metadata": {},
   "outputs": [],
   "source": [
    "f = \"/Users/fkeruzore/Data/Misc/ACT_148_equ_season_4_1way_v3_src_free.fits\"\n",
    "hdu_data = 0\n",
    "hdulist = fits.open(f)\n",
    "d = hdulist[hdu_data].data\n",
    "h = hdulist[hdu_data].header\n",
    "wcs = WCS(h)"
   ]
  },
  {
   "cell_type": "code",
   "execution_count": null,
   "id": "efdd817b-23ef-4dcc-bba0-19e7c320427a",
   "metadata": {},
   "outputs": [],
   "source": [
    "pix_center = np.array([h[f\"NAXIS{ii}\"] // 2 for ii in (1, 2)])\n",
    "ra, dec = wcs.all_pix2world([pix_center], 0)[0]\n",
    "coords_center = SkyCoord(ra=ra * u.deg, dec=dec * u.deg)"
   ]
  },
  {
   "cell_type": "code",
   "execution_count": null,
   "id": "84407728-7b2a-4f5b-943a-ca166b5ed178",
   "metadata": {},
   "outputs": [],
   "source": [
    "cutout = Cutout2D(d, coords_center, (1.5 + h[\"CDELT2\"]) * u.deg, wcs=wcs)\n",
    "mapview.mapview(cutout.data, wcs=cutout.wcs)"
   ]
  },
  {
   "cell_type": "code",
   "execution_count": null,
   "id": "73996372-30c7-4b5f-a307-1b90ae5a1604",
   "metadata": {},
   "outputs": [],
   "source": [
    "hnpix = data_towrite.shape[0] // 2\n",
    "rmap = np.hypot(*np.meshgrid(np.arange(-hnpix, hnpix + 1), np.arange(-hnpix, hnpix + 1)))\n",
    "data_towrite = 1e-5 * (2.0 - np.exp(-0.5 * (rmap / hnpix) ** 2))\n",
    "\n",
    "hdulist_new = fits.HDUList(\n",
    "    [\n",
    "        fits.PrimaryHDU(),\n",
    "        fits.ImageHDU(data=data_towrite, header=cutout.wcs.to_header(), name=\"SZ_Y\"),\n",
    "        fits.ImageHDU(data=data_towrite, header=cutout.wcs.to_header(), name=\"SZ_RMS\"),\n",
    "    ]\n",
    ")\n",
    "hdulist_new.writeto(\"./ACTlike.fits\", overwrite=True)\n",
    "mapview.fitsview(\"./ACTlike.fits\", 1, smooth=0.0)"
   ]
  }
 ],
 "metadata": {
  "kernelspec": {
   "display_name": "Python 3 (ipykernel)",
   "language": "python",
   "name": "python3"
  },
  "language_info": {
   "codemirror_mode": {
    "name": "ipython",
    "version": 3
   },
   "file_extension": ".py",
   "mimetype": "text/x-python",
   "name": "python",
   "nbconvert_exporter": "python",
   "pygments_lexer": "ipython3",
   "version": "3.10.4"
  }
 },
 "nbformat": 4,
 "nbformat_minor": 5
}
